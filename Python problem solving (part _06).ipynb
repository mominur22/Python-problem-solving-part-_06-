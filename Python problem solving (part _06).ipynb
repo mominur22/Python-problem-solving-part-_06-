{
 "cells": [
  {
   "cell_type": "markdown",
   "id": "c1cbcd27",
   "metadata": {},
   "source": [
    "# Python problem solving (part _06)"
   ]
  },
  {
   "cell_type": "markdown",
   "id": "5b9d6c0a",
   "metadata": {},
   "source": [
    "37. List Sorting: Write a Python program to sort a list of integers in ascending order."
   ]
  },
  {
   "cell_type": "code",
   "execution_count": 1,
   "id": "329ccf68",
   "metadata": {},
   "outputs": [
    {
     "name": "stdout",
     "output_type": "stream",
     "text": [
      "['a', 'b', 'c', 'd', 'e']\n",
      "[1, 2, 3, 5, 6, 8]\n"
     ]
    }
   ],
   "source": [
    "alphabets = ['a','e','d','c','b'] \n",
    "alphabets.sort() \n",
    "print(alphabets) \n",
    "\n",
    "random_numbers = [2,5,6,1,8,3] \n",
    "random_numbers.sort() \n",
    "print(random_numbers)\n"
   ]
  },
  {
   "cell_type": "markdown",
   "id": "724a491c",
   "metadata": {},
   "source": [
    "# 38. List Filtering: Given a list of integers, write a Python program to create a new list that contains only the even numbers from the original list."
   ]
  },
  {
   "cell_type": "code",
   "execution_count": 2,
   "id": "69fc0c33",
   "metadata": {},
   "outputs": [
    {
     "name": "stdout",
     "output_type": "stream",
     "text": [
      "[2, 4, 6, 8]\n"
     ]
    }
   ],
   "source": [
    "def is_even_num(l):\n",
    "    enum = []\n",
    "    for n in l:\n",
    "        if n % 2 == 0:\n",
    "            enum.append(n)\n",
    "    return enum\n",
    "print(is_even_num([1, 2, 3, 4, 5, 6, 7, 8, 9])) \n"
   ]
  },
  {
   "cell_type": "markdown",
   "id": "9e43703f",
   "metadata": {},
   "source": [
    "# 39. List Reversal: Write a Python program to reverse a given list without using any built-in functions."
   ]
  },
  {
   "cell_type": "code",
   "execution_count": null,
   "id": "1badffcb",
   "metadata": {},
   "outputs": [],
   "source": [
    "input_list = input(\"Enter elements of the list separated by spaces: \").split()\n",
    "\n",
    "original_list = [int(element) for element in input_list]\n",
    "\n",
    "length = len(original_list)\n",
    "for i in range(length // 2):\n",
    "    original_list[i], original_list[length - i - 1] = original_list[length - i - 1], original_list[i]\n",
    "print(\"Reversed List:\", original_list)"
   ]
  },
  {
   "cell_type": "markdown",
   "id": "0e121d8b",
   "metadata": {},
   "source": [
    "# 40. List Manipulation: Given two lists of integers, write a Python program to create a new list that contains elements common to both lists."
   ]
  },
  {
   "cell_type": "code",
   "execution_count": null,
   "id": "dbe8d88b",
   "metadata": {},
   "outputs": [],
   "source": [
    "def common_member(a, b):\n",
    "    a_set = set(a)\n",
    "    b_set = set(b)\n",
    "    if (a_set & b_set):\n",
    "        print(a_set & b_set)\n",
    "    else:\n",
    "        print(\"No common elements\") \n",
    "a = [1, 2, 3, 4, 5]\n",
    "b = [5, 6, 7, 8, 9]\n",
    "common_member(a, b)\n",
    "  \n",
    "a = [1, 2, 3, 4, 5]\n",
    "b = [6, 7, 8, 9]\n",
    "common_member(a, b)"
   ]
  },
  {
   "cell_type": "markdown",
   "id": "5a625bed",
   "metadata": {},
   "source": [
    "# 41. List Element Count: Write a Python program to count the occurrences of a specific element in a given list."
   ]
  },
  {
   "cell_type": "code",
   "execution_count": null,
   "id": "8c734a19",
   "metadata": {},
   "outputs": [],
   "source": [
    "input_list = input(\"Enter elements of the list separated by spaces: \").split()\n",
    "original_list = [int(element) for element in input_list]\n",
    "element_to_count = int(input(\"Enter the element to count: \"))\n",
    "\n",
    "# Count the occurrences of the specified element\n",
    "occurrences_count = original_list.count(element_to_count)\n",
    "print(f\"The element {element_to_count} occurs {occurrences_count} times in the list.\")"
   ]
  },
  {
   "cell_type": "markdown",
   "id": "35516339",
   "metadata": {},
   "source": [
    "# 42. List Duplicates Removal: Write a Python program to remove duplicates from a given list while preserving the order of the elements."
   ]
  },
  {
   "cell_type": "code",
   "execution_count": null,
   "id": "b5cf1176",
   "metadata": {},
   "outputs": [],
   "source": [
    "#input the element \n",
    "input_list = input(\"Enter elements of the list separated by spaces: \").split()\n",
    "\n",
    "# Convert elements to integers\n",
    "original_list = [int(element) for element in input_list]\n",
    "unique_list = []\n",
    "\n",
    "# i used for loop to iterate through the original list and add unique elements to the new list\n",
    "for element in original_list:\n",
    "    if element not in unique_list:\n",
    "        unique_list.append(element)\n",
    "print(\"List with Duplicates Removed:\", unique_list)\n"
   ]
  },
  {
   "cell_type": "markdown",
   "id": "2e4959cb",
   "metadata": {},
   "source": [
    "# 43. List Comprehension: Given a list of integers, write a Python program to create a new list that contains the squares of the elements using list comprehension."
   ]
  },
  {
   "cell_type": "code",
   "execution_count": null,
   "id": "afde7fc0",
   "metadata": {},
   "outputs": [],
   "source": [
    "input_list = input(\"Enter a list of integers separated by spaces: \").split()\n",
    "\n",
    "# Convert  input elements to integers\n",
    "original_list = [int(element) for element in input_list]\n",
    "squares_list = [num**2 for num in original_list]\n",
    "print(\"List of Squares:\", squares_list)\n"
   ]
  },
  {
   "cell_type": "code",
   "execution_count": null,
   "id": "875e1479",
   "metadata": {},
   "outputs": [],
   "source": []
  }
 ],
 "metadata": {
  "kernelspec": {
   "display_name": "Python 3 (ipykernel)",
   "language": "python",
   "name": "python3"
  },
  "language_info": {
   "codemirror_mode": {
    "name": "ipython",
    "version": 3
   },
   "file_extension": ".py",
   "mimetype": "text/x-python",
   "name": "python",
   "nbconvert_exporter": "python",
   "pygments_lexer": "ipython3",
   "version": "3.11.5"
  }
 },
 "nbformat": 4,
 "nbformat_minor": 5
}
